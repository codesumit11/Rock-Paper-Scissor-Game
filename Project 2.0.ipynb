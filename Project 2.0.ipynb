{
 "cells": [
  {
   "cell_type": "markdown",
   "id": "0a65b4ad",
   "metadata": {},
   "source": [
    "# Rock Paper Scissor "
   ]
  },
  {
   "cell_type": "code",
   "execution_count": 9,
   "id": "cb6012c3",
   "metadata": {},
   "outputs": [
    {
     "name": "stdout",
     "output_type": "stream",
     "text": [
      "****************************************\n",
      "Welcome to the ROCK PAPER & SCISSOR Game\n",
      "****************************************\n",
      "Guidelines:-Choose among Rock, Paper and Scissor\n",
      "****************************************\n",
      "Enter your choice:rock\n",
      "Enter comp choice:paper\n",
      "****************************************\n",
      "Choice of User=ROCK and Computer=PAPER\n",
      "Computer wins as PAPER folds the ROCK\n",
      "****************************************\n"
     ]
    }
   ],
   "source": [
    "print(\"*\"*40)\n",
    "print(\"Welcome to the ROCK PAPER & SCISSOR Game\")\n",
    "print(\"*\"*40)\n",
    "print(\"Guidelines:-Choose among Rock, Paper and Scissor\")\n",
    "print(\"*\"*40)\n",
    "userChoice=input(\"Enter your choice:\")\n",
    "compChoice=input(\"Enter comp choice:\")\n",
    "print(\"*\"*40)\n",
    "\n",
    "if(userChoice.upper()==\"ROCK\") and (compChoice.upper()==\"ROCK\"):\n",
    "    print(\"Choice of User={} and Computer={}\".format(userChoice.upper(),compChoice.upper()))\n",
    "    print(\"It's a tie...Play once again to be the winner\")\n",
    "elif(userChoice.upper()==\"ROCK\") and (compChoice.upper()==\"PAPER\"):\n",
    "    print(\"Choice of User={} and Computer={}\".format(userChoice.upper(),compChoice.upper()))\n",
    "    print(\"Computer wins as PAPER folds the ROCK\")\n",
    "elif(userChoice.upper()==\"ROCK\") and (compChoice.upper()==\"SCISSOR\"):\n",
    "    print(\"Choice of User={} and Computer={}\".format(userChoice.upper(),compChoice.upper()))\n",
    "    print(\"User wins as ROCK breaks the SCISSOR\")\n",
    "        \n",
    "elif(userChoice.upper()==\"PAPER\") and (compChoice.upper()==\"ROCK\"):\n",
    "    print(\"Choice of User={} and Computer={}\".format(userChoice.upper(),compChoice.upper()))\n",
    "    print(\"User wins as PAPER folds the ROCK\")\n",
    "elif(userChoice.upper()==\"PAPER\") and (compChoice.upper()==\"PAPER\"):\n",
    "    print(\"Choice of User={} and Computer={}\".format(userChoice.upper(),compChoice.upper()))\n",
    "    print(\"It's a tie...Play once again to be the winner\")\n",
    "elif(userChoice.upper()==\"PAPER\") and (compChoice.upper()==\"SCISSOR\"):\n",
    "    print(\"Choice of User={} and Computer={}\".format(userChoice.upper(),compChoice.upper()))\n",
    "    print(\"Computer wins as SCISSOR cuts the PAPER\")\n",
    "        \n",
    "elif(userChoice.upper()==\"SCISSOR\") and (compChoice.upper()==\"ROCK\"):\n",
    "    print(\"Choice of User={} and Computer={}\".format(userChoice.upper(),compChoice.upper()))\n",
    "    print(\"Computer wins as ROCK breaks the SCISSOR\")\n",
    "elif(userChoice.upper()==\"SCISSOR\") and (compChoice.upper()==\"PAPER\"):\n",
    "    print(\"Choice of User={} and Computer={}\".format(userChoice.upper(),compChoice.upper()))\n",
    "    print(\"User wins as SCISSOR cuts the PAPER\")\n",
    "elif(userChoice.upper()==\"SCISSOR\") and (compChoice.upper()==\"SCISSOR\"):\n",
    "    print(\"Choice of User={} and Computer={}\".format(userChoice.upper(),compChoice.upper()))\n",
    "    print(\"It's a tie...Play once again to be the winner\")\n",
    "        \n",
    "else:\n",
    "    print(\"Sorry!You have entered the wrong input\")\n",
    "    print(\"Please choose the correct option\")\n",
    "    \n",
    "print(\"*\"*40)\n"
   ]
  }
 ],
 "metadata": {
  "kernelspec": {
   "display_name": "Python 3 (ipykernel)",
   "language": "python",
   "name": "python3"
  },
  "language_info": {
   "codemirror_mode": {
    "name": "ipython",
    "version": 3
   },
   "file_extension": ".py",
   "mimetype": "text/x-python",
   "name": "python",
   "nbconvert_exporter": "python",
   "pygments_lexer": "ipython3",
   "version": "3.9.12"
  }
 },
 "nbformat": 4,
 "nbformat_minor": 5
}
